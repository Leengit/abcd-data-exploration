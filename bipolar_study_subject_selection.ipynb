{
 "cells": [
  {
   "cell_type": "markdown",
   "id": "d9cbd0db",
   "metadata": {},
   "source": [
    "The purpose of this notebook is to select a reasonable collection of subjects for a dimensional neuroimaging study of the onset of BP symptoms."
   ]
  },
  {
   "cell_type": "code",
   "execution_count": null,
   "id": "81f27955",
   "metadata": {},
   "outputs": [],
   "source": [
    "import pandas as pd\n",
    "import numpy as np\n",
    "import matplotlib.pyplot as plt"
   ]
  },
  {
   "cell_type": "code",
   "execution_count": null,
   "id": "cbb3eb15",
   "metadata": {},
   "outputs": [],
   "source": [
    "table_path_fstring = \"/home/ebrahim/data/abcd/Package_1200530/{}.txt\"\n",
    "table_path_fstring2 = \"/home/ebrahim/data/abcd/Package_1200951/{}.txt\"\n",
    "dict_path_fstring = \"/home/ebrahim/data/abcd/abcd-4.0-data-dictionaries/{}.csv\"\n",
    "\n",
    "def read_abcd_table(table_name, include_data_dict = True, use_alternative_package = False):\n",
    "    if use_alternative_package:\n",
    "        table_path = table_path_fstring2.format(table_name)\n",
    "    else:\n",
    "        table_path = table_path_fstring.format(table_name)\n",
    "    \n",
    "    df = pd.read_csv(table_path, sep='\\t', header=0, skiprows=[1], low_memory=False, parse_dates=['interview_date'])\n",
    "    \n",
    "    if include_data_dict:\n",
    "        dict_path = dict_path_fstring.format(table_name)\n",
    "        data_dictionary = pd.read_csv(dict_path, index_col='ElementName')\n",
    "        return df, data_dictionary\n",
    "    else:\n",
    "        return df"
   ]
  },
  {
   "cell_type": "code",
   "execution_count": null,
   "id": "e2f6e3d6",
   "metadata": {},
   "outputs": [],
   "source": [
    "# Load data\n",
    "\n",
    "# Demographic data\n",
    "demo, demo_dd = read_abcd_table(\"pdem02\")\n",
    "ldemo, ldemo_dd = read_abcd_table(\"abcd_lpds01\") # longitudinal version\n",
    "\n",
    "# raw survey data for bipolar\n",
    "bp, bp_dd = read_abcd_table(\"bipolar_disorders_p01\", use_alternative_package=True) # parent survey\n",
    "bp_youth, bp_youth_dd = read_abcd_table(\"bipolar_disorders01\", use_alternative_package=True) # youth survey\n",
    "\n",
    "# mental health data\n",
    "mh, mh_dd = read_abcd_table(\"abcd_ksad01\")\n",
    "\n",
    "# DMRI imaging data\n",
    "dmri = read_abcd_table(\"fmriresults01\", include_data_dict=False)"
   ]
  },
  {
   "cell_type": "code",
   "execution_count": null,
   "id": "02f56e2c",
   "metadata": {},
   "outputs": [],
   "source": [
    "# Fix row duplication issue\n",
    "\n",
    "demo = demo.drop_duplicates()\n",
    "mh = mh.drop_duplicates()\n",
    "dmri = dmri.drop_duplicates()\n",
    "\n",
    "# ldemo also has a row duplication problem, but there are two subjects that have\n",
    "# their 2 and 3 year follow up occuring at the same interview_age. drop these. then fix the row duplication\n",
    "ldemo = ldemo[(ldemo.subjectkey!='NDAR_INV7YM285FW') & (ldemo.subjectkey!='NDAR_INV99J6PWJX')]\n",
    "ldemo = ldemo.groupby(['subjectkey', 'interview_age'], as_index=False).apply(lambda s: s.iloc[0])"
   ]
  },
  {
   "cell_type": "markdown",
   "id": "1160e8f6",
   "metadata": {},
   "source": [
    "# Subject Selection\n",
    "Our largest number of subjects to select is the number who completed at least one survey from the 3 time points:"
   ]
  },
  {
   "cell_type": "code",
   "execution_count": null,
   "id": "89d3c010",
   "metadata": {},
   "outputs": [],
   "source": [
    "bp.subjectkey.nunique()"
   ]
  },
  {
   "cell_type": "markdown",
   "id": "83b48a87",
   "metadata": {},
   "source": [
    "Or we could only keep the subjects who did the survey at all 3 time points:"
   ]
  },
  {
   "cell_type": "code",
   "execution_count": null,
   "id": "b0b2d6e5",
   "metadata": {},
   "outputs": [],
   "source": [
    "sum(bp.groupby('subjectkey').apply(lambda x : len(x)) == 3)"
   ]
  },
  {
   "cell_type": "markdown",
   "id": "30779d1c",
   "metadata": {},
   "source": [
    "We can instead focus on subjects who had any BP symptom as indicated by KSADS diagnistics, with a sampling of the same number of healthy controls."
   ]
  },
  {
   "cell_type": "code",
   "execution_count": null,
   "id": "3c230fd1",
   "metadata": {},
   "outputs": [],
   "source": [
    "# Collect list of KSADS diagnostic column names related to BP\n",
    "bp_elementnames = mh_dd[mh_dd.ElementDescription.str.contains(\"Bipolar\", case=False)].index\n",
    "for en in bp_elementnames:\n",
    "    print(mh_dd.loc[en].ElementDescription)"
   ]
  },
  {
   "cell_type": "code",
   "execution_count": null,
   "id": "acf20a00",
   "metadata": {},
   "outputs": [],
   "source": [
    "mh[bp_elementnames].ksads_2_837_p.value_counts()"
   ]
  },
  {
   "cell_type": "code",
   "execution_count": null,
   "id": "6a642c27",
   "metadata": {},
   "outputs": [],
   "source": [
    "mh['some_bp_thing'] = mh[bp_elementnames].apply(lambda x : (x==1).any(), axis=1)"
   ]
  },
  {
   "cell_type": "code",
   "execution_count": null,
   "id": "9f7a868d",
   "metadata": {},
   "outputs": [],
   "source": [
    "mh.groupby('subjectkey').some_bp_thing.agg(func='any').value_counts()"
   ]
  },
  {
   "cell_type": "markdown",
   "id": "6c014c2d",
   "metadata": {},
   "source": [
    "That would be 3189 subjects; maybe we can restrict to the more clear diagnositic columns only."
   ]
  },
  {
   "cell_type": "code",
   "execution_count": null,
   "id": "dd86029d",
   "metadata": {},
   "outputs": [],
   "source": [
    "mh['some_bp_thing2'] = mh[bp_elementnames[:10]].apply(lambda x : (x==1).any(), axis=1)\n",
    "mh['some_bp_thing3'] = mh[bp_elementnames[:8]].apply(lambda x : (x==1).any(), axis=1)"
   ]
  },
  {
   "cell_type": "code",
   "execution_count": null,
   "id": "d9ad3ab3",
   "metadata": {},
   "outputs": [],
   "source": [
    "mh.groupby('subjectkey').some_bp_thing2.agg(func='any').value_counts()"
   ]
  },
  {
   "cell_type": "code",
   "execution_count": null,
   "id": "f2461312",
   "metadata": {},
   "outputs": [],
   "source": [
    "mh.groupby('subjectkey').some_bp_thing3.agg(func='any').value_counts()"
   ]
  },
  {
   "cell_type": "markdown",
   "id": "7c2d1c47",
   "metadata": {},
   "source": [
    "That last one seems like a good number to take: 568 subjects.\n",
    "So that would be those who have a positive in at least one of the following KSADS diagnostics for at least one interview age:"
   ]
  },
  {
   "cell_type": "code",
   "execution_count": null,
   "id": "79b8f792",
   "metadata": {},
   "outputs": [],
   "source": [
    "for en in bp_elementnames[:8]:\n",
    "    print(mh_dd.loc[en].ElementDescription)"
   ]
  },
  {
   "cell_type": "code",
   "execution_count": null,
   "id": "9b469ee3",
   "metadata": {},
   "outputs": [],
   "source": [
    "# indicates whether a given *subject* had at least one interview that contained a positive diagnostic\n",
    "subject_positive_bp = mh.groupby('subjectkey').some_bp_thing3.agg(func='any')\n",
    "\n",
    "# indicates whether a given subject did all three of their interviews\n",
    "subject_interview_complete = mh.groupby('subjectkey').apply(lambda x : len(x)) == 3\n",
    "\n",
    "# indicates whether a given subject did all two of their scans\n",
    "subject_scans_complete = dmri.groupby(['subjectkey']).apply(lambda x : x.interview_age.nunique()) == 2\n",
    "\n",
    "# Concatenate into a dataframe\n",
    "subject_inclusion_criteria = pd.concat(\n",
    "    {'positive_bp':subject_positive_bp,\n",
    "     'interview_complete':subject_interview_complete,\n",
    "     'scans_complete':subject_scans_complete\n",
    "    }, axis=1)\n",
    "\n",
    "subject_inclusion_criteria = subject_inclusion_criteria.replace(np.nan, False)"
   ]
  },
  {
   "cell_type": "markdown",
   "id": "b1b1f71e",
   "metadata": {},
   "source": [
    "If we want to include the subjects that satisfy all three of these criteria, then here's how many subjects we get:"
   ]
  },
  {
   "cell_type": "code",
   "execution_count": null,
   "id": "992b1009",
   "metadata": {},
   "outputs": [],
   "source": [
    "subject_inclusion_criteria.all(axis=1).sum()"
   ]
  },
  {
   "cell_type": "markdown",
   "id": "b8866e68",
   "metadata": {},
   "source": [
    "If we then want to include the same number of healthy controls, then we can take a random sample that is stratified based on the demographics of these 290. (Or should it be stratified based on the demographics of the full abcd study cohort?)"
   ]
  },
  {
   "cell_type": "markdown",
   "id": "4059b44b",
   "metadata": {},
   "source": [
    "# COVID-19 Lockdown Effects\n",
    "\n",
    "## Data Collection Timing\n",
    "Let's now look at the interview dates for those included subjects."
   ]
  },
  {
   "cell_type": "code",
   "execution_count": null,
   "id": "a2ec7aca",
   "metadata": {},
   "outputs": [],
   "source": [
    "included_subjects = subject_inclusion_criteria[subject_inclusion_criteria.all(axis=1)].index"
   ]
  },
  {
   "cell_type": "code",
   "execution_count": null,
   "id": "df440d29",
   "metadata": {},
   "outputs": [],
   "source": [
    "time_index_mapping = {\n",
    "    'baselineYear1Arm1' : 0,\n",
    "    '2YearFollowUpYArm1' : 1\n",
    "}\n",
    "dmri['time_index'] = dmri.derived_files.apply(lambda x : time_index_mapping[x.split('/')[-1].split('_')[1]])"
   ]
  },
  {
   "cell_type": "code",
   "execution_count": null,
   "id": "ba5ba17e",
   "metadata": {},
   "outputs": [],
   "source": [
    "def year_and_month_to_month_offset(year, month, day):\n",
    "    return (year-2018)*12 + month + day/30.5\n",
    "\n",
    "dmri_second_scan_included_subjects = dmri[dmri.subjectkey.isin(included_subjects) & (dmri.time_index==1)]\n",
    "dmri_second_scan_included_unique_subjects = dmri_second_scan_included_subjects.groupby('subjectkey').apply(lambda x : x.iloc[0])\n",
    "month_offsets = dmri_second_scan_included_unique_subjects.interview_date.apply(lambda x : year_and_month_to_month_offset(x.year,x.month, x.day))\n",
    "lockdown_month_offset = year_and_month_to_month_offset(2020,3,20)"
   ]
  },
  {
   "cell_type": "code",
   "execution_count": null,
   "id": "99e46024",
   "metadata": {},
   "outputs": [],
   "source": [
    "bins = range(8,38,2)\n",
    "plt.figure(figsize=(4,2))\n",
    "plt.hist(month_offsets, bins=bins)\n",
    "plt.plot([lockdown_month_offset,lockdown_month_offset],[0,100], label=\"Lockdown\")\n",
    "plt.xticks(ticks = bins)\n",
    "plt.ylim(0,45)\n",
    "plt.yticks(ticks=range(0,50,10))\n",
    "plt.xlabel(\"Months since Jan 2018\")\n",
    "plt.title(\"2-Year Follow-Up Scan Dates\")\n",
    "plt.legend()\n",
    "plt.show()"
   ]
  },
  {
   "cell_type": "code",
   "execution_count": null,
   "id": "597b5447",
   "metadata": {
    "scrolled": true
   },
   "outputs": [],
   "source": [
    "(month_offsets > lockdown_month_offset).value_counts()"
   ]
  },
  {
   "cell_type": "markdown",
   "id": "9f50c27a",
   "metadata": {},
   "source": [
    "This is great. Of the 290 selected BP subjects, 42 of them had their second scan after lockdown measures, and 248 of them before. That means we can _ignore_ lockdown effects by restricting to those 248 and it's not a serious loss at all. And we can also _observe_ lockdown effects if we want to, because 42 is a decent number of positive post-lockdown cases to have."
   ]
  },
  {
   "cell_type": "markdown",
   "id": "7f2407e5",
   "metadata": {},
   "source": [
    "Let's now check the same for the mental health interview data."
   ]
  },
  {
   "cell_type": "code",
   "execution_count": null,
   "id": "14f1648f",
   "metadata": {},
   "outputs": [],
   "source": [
    "time_index_mapping = {\n",
    "    'baseline_year_1_arm_1' : 0,\n",
    "    '1_year_follow_up_y_arm_1' : 1,\n",
    "    '2_year_follow_up_y_arm_1' : 2,\n",
    "}\n",
    "mh['time_index'] = mh.eventname.apply(lambda x : time_index_mapping[x])\n",
    "\n",
    "mh_time1_included_subjects = mh[mh.subjectkey.isin(included_subjects) & (mh.time_index==1)]\n",
    "month_offsets1 = mh_time1_included_subjects.interview_date.apply(lambda x : year_and_month_to_month_offset(x.year,x.month, x.day))\n",
    "mh_time2_included_subjects = mh[mh.subjectkey.isin(included_subjects) & (mh.time_index==2)]\n",
    "month_offsets2 = mh_time2_included_subjects.interview_date.apply(lambda x : year_and_month_to_month_offset(x.year,x.month, x.day))"
   ]
  },
  {
   "cell_type": "code",
   "execution_count": null,
   "id": "7bc7a163",
   "metadata": {},
   "outputs": [],
   "source": [
    "bins = range(8,38,2)\n",
    "plt.hist(month_offsets2, bins=bins)\n",
    "plt.plot([lockdown_month_offset,lockdown_month_offset],[0,100], label=\"Lockdown\")\n",
    "plt.xticks(ticks = bins)\n",
    "plt.ylim(0,45)\n",
    "plt.yticks(ticks=range(0,50,10))\n",
    "plt.xlabel(\"Months since Jan 2018\")\n",
    "plt.title(\"2-Year Follow-Up Interview Dates\")\n",
    "plt.legend()\n",
    "plt.show()"
   ]
  },
  {
   "cell_type": "markdown",
   "id": "914a7d4c",
   "metadata": {},
   "source": [
    "## Data Collection Adjustments\n",
    "\n",
    "The table `abcd_lt01` provides some information on study sites and on whether a visit was in person, remote, or hybrid. To determine visit type:\n",
    "\n",
    "- If `sched_delay = 7`, then `visit = In person`\n",
    "- If `sched_delay = 9` and `sched_hybrid = 0`, then `visit = Remote`\n",
    "- If `sched_delay = 9` and `sched_hybrid = 1`, then `visit = Hybrid`"
   ]
  },
  {
   "cell_type": "code",
   "execution_count": null,
   "id": "d84affeb",
   "metadata": {},
   "outputs": [],
   "source": [
    "lt, lt_dd = read_abcd_table(\"abcd_lt01\")\n",
    "lt = lt.groupby('subjectkey').apply(lambda x : x.iloc[0]) # Remove duplicate rows\n",
    "lt_2year = lt[lt.eventname.isin(['2_year_follow_up_y_arm_1'])]"
   ]
  },
  {
   "cell_type": "code",
   "execution_count": null,
   "id": "8f1b5692",
   "metadata": {},
   "outputs": [],
   "source": [
    "lt_2year_included_subjects = lt_2year[lt_2year.subjectkey.isin(included_subjects)]\n",
    "month_offsets = lt_2year_included_subjects.interview_date.apply(lambda x : year_and_month_to_month_offset(x.year,x.month, x.day))"
   ]
  },
  {
   "cell_type": "code",
   "execution_count": null,
   "id": "2c4c829e",
   "metadata": {},
   "outputs": [],
   "source": [
    "bins = range(8,38,2)\n",
    "plt.hist(month_offsets, bins=bins)\n",
    "plt.plot([lockdown_month_offset,lockdown_month_offset],[0,100], label=\"Lockdown\")\n",
    "plt.xticks(ticks = bins)\n",
    "plt.ylim(0,45)\n",
    "plt.yticks(ticks=range(0,50,10))\n",
    "plt.xlabel(\"Months since Jan 2018\")\n",
    "plt.title(\"2-Year Follow-Up Events\")\n",
    "plt.legend()\n",
    "plt.show()"
   ]
  },
  {
   "cell_type": "code",
   "execution_count": null,
   "id": "e94e9fca",
   "metadata": {},
   "outputs": [],
   "source": [
    "len(lt_2year_included_subjects)"
   ]
  },
  {
   "cell_type": "markdown",
   "id": "23004e11",
   "metadata": {},
   "source": [
    "Hmm why is this different from the following?"
   ]
  },
  {
   "cell_type": "code",
   "execution_count": null,
   "id": "55ea945b",
   "metadata": {},
   "outputs": [],
   "source": [
    "len(mh_time2_included_subjects)"
   ]
  },
  {
   "cell_type": "markdown",
   "id": "ee010125",
   "metadata": {},
   "source": [
    "The `abcd_lt01` table does not seem to have entries to go with all the events I find in, say, the `abcd_ksad01` table. Need to figure out why that is in order to map each of my cases reliably to in-person/remote/hybrid status."
   ]
  }
 ],
 "metadata": {
  "kernelspec": {
   "display_name": "Python 3 (ipykernel)",
   "language": "python",
   "name": "python3"
  },
  "language_info": {
   "codemirror_mode": {
    "name": "ipython",
    "version": 3
   },
   "file_extension": ".py",
   "mimetype": "text/x-python",
   "name": "python",
   "nbconvert_exporter": "python",
   "pygments_lexer": "ipython3",
   "version": "3.9.5"
  }
 },
 "nbformat": 4,
 "nbformat_minor": 5
}
