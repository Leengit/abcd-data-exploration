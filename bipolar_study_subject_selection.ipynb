{
 "cells": [
  {
   "cell_type": "markdown",
   "id": "d9cbd0db",
   "metadata": {},
   "source": [
    "The purpose of this notebook is to select a reasonable collection of subjects for a dimensional neuroimaging study of the onset of BP symptoms."
   ]
  },
  {
   "cell_type": "code",
   "execution_count": 1,
   "id": "81f27955",
   "metadata": {},
   "outputs": [],
   "source": [
    "import pandas as pd\n",
    "import numpy as np\n",
    "import matplotlib.pyplot as plt"
   ]
  },
  {
   "cell_type": "code",
   "execution_count": 10,
   "id": "cbb3eb15",
   "metadata": {},
   "outputs": [],
   "source": [
    "table_path_fstring = \"/home/ebrahim/data/abcd/Package_1200530/{}.txt\"\n",
    "table_path_fstring2 = \"/home/ebrahim/data/abcd/Package_1200951/{}.txt\"\n",
    "dict_path_fstring = \"/home/ebrahim/data/abcd/abcd-4.0-data-dictionaries/{}.csv\"\n",
    "\n",
    "def read_abcd_table(table_name, include_data_dict = True, use_alternative_package = False):\n",
    "    if use_alternative_package:\n",
    "        table_path = table_path_fstring2.format(table_name)\n",
    "    else:\n",
    "        table_path = table_path_fstring.format(table_name)\n",
    "    \n",
    "    df = pd.read_csv(table_path, sep='\\t', header=0, skiprows=[1], low_memory=False)\n",
    "    \n",
    "    if include_data_dict:\n",
    "        dict_path = dict_path_fstring.format(table_name)\n",
    "        data_dictionary = pd.read_csv(dict_path, index_col='ElementName')\n",
    "        return df, data_dictionary\n",
    "    else:\n",
    "        return df"
   ]
  },
  {
   "cell_type": "code",
   "execution_count": 67,
   "id": "e2f6e3d6",
   "metadata": {},
   "outputs": [],
   "source": [
    "# Load mental health data, raw survey data for bipolar (parent and youth), demographic data, and imaging table\n",
    "\n",
    "demo, demo_dd = read_abcd_table(\"pdem02\")\n",
    "bp, bp_dd = read_abcd_table(\"bipolar_disorders_p01\", use_alternative_package=True)\n",
    "bp_youth, bp_youth_dd = read_abcd_table(\"bipolar_disorders01\", use_alternative_package=True)\n",
    "mh, mh_dd = read_abcd_table(\"abcd_ksad01\")\n",
    "dmri = read_abcd_table(\"fmriresults01\", include_data_dict=False)"
   ]
  },
  {
   "cell_type": "code",
   "execution_count": 70,
   "id": "02f56e2c",
   "metadata": {},
   "outputs": [],
   "source": [
    "# Fix row duplication issue\n",
    "\n",
    "demo = demo.groupby('subjectkey', as_index=False).apply(lambda s : s.iloc[0])\n",
    "mh = mh.groupby(['subjectkey', 'interview_age'], as_index=False).apply(lambda s: s.iloc[0])\n",
    "dmri = dmri.groupby(['subjectkey', 'interview_age', 'fmriresults01_id'], as_index=False).apply(lambda x : x.iloc[0])"
   ]
  },
  {
   "cell_type": "markdown",
   "id": "1160e8f6",
   "metadata": {},
   "source": [
    "Our largest number of subjects to select is the number who completed at least one survey from the 3 time points:"
   ]
  },
  {
   "cell_type": "code",
   "execution_count": 74,
   "id": "89d3c010",
   "metadata": {},
   "outputs": [
    {
     "data": {
      "text/plain": [
       "11488"
      ]
     },
     "execution_count": 74,
     "metadata": {},
     "output_type": "execute_result"
    }
   ],
   "source": [
    "bp.subjectkey.nunique()"
   ]
  },
  {
   "cell_type": "markdown",
   "id": "83b48a87",
   "metadata": {},
   "source": [
    "Or we could only keep the subjects who did the survey at all 3 time points:"
   ]
  },
  {
   "cell_type": "code",
   "execution_count": 92,
   "id": "b0b2d6e5",
   "metadata": {},
   "outputs": [
    {
     "data": {
      "text/plain": [
       "10186"
      ]
     },
     "execution_count": 92,
     "metadata": {},
     "output_type": "execute_result"
    }
   ],
   "source": [
    "sum(bp.groupby('subjectkey').apply(lambda x : len(x)) == 3)"
   ]
  },
  {
   "cell_type": "markdown",
   "id": "30779d1c",
   "metadata": {},
   "source": [
    "We can instead focus on subjects who had any BP symptom as indicated by KSADS diagnistics, with a sampling of the same number of healthy controls."
   ]
  },
  {
   "cell_type": "code",
   "execution_count": 93,
   "id": "3c230fd1",
   "metadata": {},
   "outputs": [
    {
     "name": "stdout",
     "output_type": "stream",
     "text": [
      "Diagnosis - Bipolar II Disorder most recent past hypomanic ξF31.81\n",
      "Diagnosis - Bipolar II Disorder currently hypomanic ξF31.81\n",
      "Diagnosis - Bipolar II Disorder currently depressed F31.81\n",
      "Diagnosis - Bipolar I Disorder current episode depressed F31.3x\n",
      "Diagnosis - Bipolar I Disorder currently hypomanic  F31.0\n",
      "Diagnosis - Bipolar I Disorder current episode manic (F31.1x)\n",
      "Diagnosis - Bipolar I Disorder most recent past episode manic (F31.1x)\n",
      "Diagnosis - Bipolar I Disorder most recent past episode depressed (F31.1.3x)\n",
      "Diagnosis - Unspecified Bipolar and Related Disorder PAST (F31.9)\n",
      "Diagnosis - Unspecified Bipolar and Related Disorder current ξ(F31.9)\n",
      "Symptom - Hospitalized due to Bipolar Disorder Present\n",
      "Symptom - Hospitalized due to Bipolar Disorder Past\n",
      "Symptom - Impairment in functioning due to bipolar Past\n",
      "Symptom - Impairment in functioning due to bipolar Present\n",
      "Symptom - Preliminary substance rule out bipolar present\n",
      "Symptom - Preliminary substance rule out bipolar past\n",
      "Symptom - Psychomotor Agitation in Bipolar Disorder Present\n",
      "Symptom - Psychomotor Agitation in Bipolar Disorder Past\n"
     ]
    }
   ],
   "source": [
    "# Collect list of KSADS diagnostic column names related to BP\n",
    "bp_elementnames = mh_dd[mh_dd.ElementDescription.str.contains(\"Bipolar\", case=False)].index\n",
    "for en in bp_elementnames:\n",
    "    print(mh_dd.loc[en].ElementDescription)"
   ]
  },
  {
   "cell_type": "code",
   "execution_count": 118,
   "id": "acf20a00",
   "metadata": {},
   "outputs": [
    {
     "data": {
      "text/plain": [
       "0.0      21744\n",
       "555.0    11225\n",
       "1.0        207\n",
       "888.0       11\n",
       "Name: ksads_2_837_p, dtype: int64"
      ]
     },
     "execution_count": 118,
     "metadata": {},
     "output_type": "execute_result"
    }
   ],
   "source": [
    "mh[bp_elementnames].ksads_2_837_p.value_counts()"
   ]
  },
  {
   "cell_type": "code",
   "execution_count": 125,
   "id": "6a642c27",
   "metadata": {},
   "outputs": [],
   "source": [
    "mh['some_bp_thing'] = mh[bp_elementnames].apply(lambda x : (x==1).any(), axis=1)"
   ]
  },
  {
   "cell_type": "code",
   "execution_count": 133,
   "id": "9f7a868d",
   "metadata": {},
   "outputs": [
    {
     "data": {
      "text/plain": [
       "False    8687\n",
       "True     3189\n",
       "Name: some_bp_thing, dtype: int64"
      ]
     },
     "execution_count": 133,
     "metadata": {},
     "output_type": "execute_result"
    }
   ],
   "source": [
    "mh.groupby('subjectkey').some_bp_thing.agg(func='any').value_counts()"
   ]
  },
  {
   "cell_type": "markdown",
   "id": "6c014c2d",
   "metadata": {},
   "source": [
    "That would be 3189 subjects; maybe we can restrict to the more clear diagnositic columns only."
   ]
  },
  {
   "cell_type": "code",
   "execution_count": 139,
   "id": "dd86029d",
   "metadata": {},
   "outputs": [],
   "source": [
    "mh['some_bp_thing2'] = mh[bp_elementnames[:10]].apply(lambda x : (x==1).any(), axis=1)\n",
    "mh['some_bp_thing3'] = mh[bp_elementnames[:8]].apply(lambda x : (x==1).any(), axis=1)"
   ]
  },
  {
   "cell_type": "code",
   "execution_count": 144,
   "id": "d9ad3ab3",
   "metadata": {},
   "outputs": [
    {
     "data": {
      "text/plain": [
       "False    10817\n",
       "True      1059\n",
       "Name: some_bp_thing2, dtype: int64"
      ]
     },
     "execution_count": 144,
     "metadata": {},
     "output_type": "execute_result"
    }
   ],
   "source": [
    "mh.groupby('subjectkey').some_bp_thing2.agg(func='any').value_counts()"
   ]
  },
  {
   "cell_type": "code",
   "execution_count": 145,
   "id": "f2461312",
   "metadata": {},
   "outputs": [
    {
     "data": {
      "text/plain": [
       "False    11308\n",
       "True       568\n",
       "Name: some_bp_thing3, dtype: int64"
      ]
     },
     "execution_count": 145,
     "metadata": {},
     "output_type": "execute_result"
    }
   ],
   "source": [
    "mh.groupby('subjectkey').some_bp_thing3.agg(func='any').value_counts()"
   ]
  },
  {
   "cell_type": "markdown",
   "id": "7c2d1c47",
   "metadata": {},
   "source": [
    "That last one seems like a good number to take: 568 subjects.\n",
    "So that would be those who have a positive in at least one of the following KSADS diagnostics for at least one interview age:"
   ]
  },
  {
   "cell_type": "code",
   "execution_count": 146,
   "id": "79b8f792",
   "metadata": {},
   "outputs": [
    {
     "name": "stdout",
     "output_type": "stream",
     "text": [
      "Diagnosis - Bipolar II Disorder most recent past hypomanic ξF31.81\n",
      "Diagnosis - Bipolar II Disorder currently hypomanic ξF31.81\n",
      "Diagnosis - Bipolar II Disorder currently depressed F31.81\n",
      "Diagnosis - Bipolar I Disorder current episode depressed F31.3x\n",
      "Diagnosis - Bipolar I Disorder currently hypomanic  F31.0\n",
      "Diagnosis - Bipolar I Disorder current episode manic (F31.1x)\n",
      "Diagnosis - Bipolar I Disorder most recent past episode manic (F31.1x)\n",
      "Diagnosis - Bipolar I Disorder most recent past episode depressed (F31.1.3x)\n"
     ]
    }
   ],
   "source": [
    "for en in bp_elementnames[:8]:\n",
    "    print(mh_dd.loc[en].ElementDescription)"
   ]
  },
  {
   "cell_type": "code",
   "execution_count": 311,
   "id": "9b469ee3",
   "metadata": {},
   "outputs": [],
   "source": [
    "# indicates whether a given *subject* had at least one interview that contained a positive diagnostic\n",
    "subject_positive_bp = mh.groupby('subjectkey').some_bp_thing3.agg(func='any')\n",
    "\n",
    "# indicates whether a given subject did all three of their interviews\n",
    "subject_interview_complete = mh.groupby('subjectkey').apply(lambda x : len(x)) == 3\n",
    "\n",
    "# indicates whether a given subject did all two of their scans\n",
    "subject_scans_complete = dmri.groupby(['subjectkey']).apply(lambda x : x.interview_age.nunique()) == 2\n",
    "\n",
    "# Concatenate into a dataframe\n",
    "subject_inclusion_criteria = pd.concat(\n",
    "    {'positive_bp':subject_positive_bp,\n",
    "     'interview_complete':subject_interview_complete,\n",
    "     'scans_complete':subject_scans_complete\n",
    "    }, axis=1)\n",
    "\n",
    "subject_inclusion_criteria = subject_inclusion_criteria.replace(np.nan, False)"
   ]
  },
  {
   "cell_type": "markdown",
   "id": "b1b1f71e",
   "metadata": {},
   "source": [
    "If we want to include the subjects that satisfy all three of these criteria, then here's how many subjects we get:"
   ]
  },
  {
   "cell_type": "code",
   "execution_count": 320,
   "id": "992b1009",
   "metadata": {},
   "outputs": [
    {
     "data": {
      "text/plain": [
       "290"
      ]
     },
     "execution_count": 320,
     "metadata": {},
     "output_type": "execute_result"
    }
   ],
   "source": [
    "subject_inclusion_criteria.all(axis=1).sum()"
   ]
  },
  {
   "cell_type": "markdown",
   "id": "b8866e68",
   "metadata": {},
   "source": [
    "If we then want to include the same number of healthy controls, then we can take a random sample that is stratified based on the demographics of these 290. (Or should it be stratified based on the demographics of the full abcd study cohort?)"
   ]
  }
 ],
 "metadata": {
  "kernelspec": {
   "display_name": "Python 3 (ipykernel)",
   "language": "python",
   "name": "python3"
  },
  "language_info": {
   "codemirror_mode": {
    "name": "ipython",
    "version": 3
   },
   "file_extension": ".py",
   "mimetype": "text/x-python",
   "name": "python",
   "nbconvert_exporter": "python",
   "pygments_lexer": "ipython3",
   "version": "3.8.10"
  }
 },
 "nbformat": 4,
 "nbformat_minor": 5
}
